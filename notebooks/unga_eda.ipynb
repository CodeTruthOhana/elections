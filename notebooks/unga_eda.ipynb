{
 "cells": [
  {
   "cell_type": "code",
   "execution_count": null,
   "id": "33147148",
   "metadata": {},
   "outputs": [],
   "source": [
    "\"\"\"\n",
    "\n",
    "@summary:      Various Election Related Datasets\n",
    "@author:       UngaTheGreat\n",
    "@group:        CodeTruthOhana\n",
    "@contact:      UngaTheGreat@protonmail.com\n",
    "@created:      2022.09.07\n",
    "\n",
    "\"\"\""
   ]
  },
  {
   "cell_type": "code",
   "execution_count": 1,
   "id": "07e9c816",
   "metadata": {},
   "outputs": [],
   "source": [
    "import pandas as pd\n",
    "import numpy as np"
   ]
  },
  {
   "cell_type": "code",
   "execution_count": null,
   "id": "7092a595",
   "metadata": {},
   "outputs": [],
   "source": []
  },
  {
   "cell_type": "code",
   "execution_count": null,
   "id": "c3e0cacf",
   "metadata": {},
   "outputs": [],
   "source": []
  },
  {
   "cell_type": "code",
   "execution_count": null,
   "id": "1c1dd3da",
   "metadata": {},
   "outputs": [],
   "source": []
  },
  {
   "cell_type": "markdown",
   "id": "99268672",
   "metadata": {},
   "source": [
    "<hr>"
   ]
  },
  {
   "cell_type": "markdown",
   "id": "f56dac37",
   "metadata": {},
   "source": [
    "### Number of Registered Voters by State 2022"
   ]
  },
  {
   "cell_type": "code",
   "execution_count": 2,
   "id": "4063c752",
   "metadata": {},
   "outputs": [
    {
     "data": {
      "text/html": [
       "<div>\n",
       "<style scoped>\n",
       "    .dataframe tbody tr th:only-of-type {\n",
       "        vertical-align: middle;\n",
       "    }\n",
       "\n",
       "    .dataframe tbody tr th {\n",
       "        vertical-align: top;\n",
       "    }\n",
       "\n",
       "    .dataframe thead th {\n",
       "        text-align: right;\n",
       "    }\n",
       "</style>\n",
       "<table border=\"1\" class=\"dataframe\">\n",
       "  <thead>\n",
       "    <tr style=\"text-align: right;\">\n",
       "      <th></th>\n",
       "      <th>State</th>\n",
       "      <th>totalRegistered</th>\n",
       "      <th>Pop</th>\n",
       "      <th>registeredPerc</th>\n",
       "      <th>asOf</th>\n",
       "    </tr>\n",
       "  </thead>\n",
       "  <tbody>\n",
       "    <tr>\n",
       "      <th>0</th>\n",
       "      <td>Alabama</td>\n",
       "      <td>3628165</td>\n",
       "      <td>5073187</td>\n",
       "      <td>0.7152</td>\n",
       "      <td>2022-03-26</td>\n",
       "    </tr>\n",
       "    <tr>\n",
       "      <th>1</th>\n",
       "      <td>Alaska</td>\n",
       "      <td>594733</td>\n",
       "      <td>738023</td>\n",
       "      <td>0.8058</td>\n",
       "      <td>2022-02-01</td>\n",
       "    </tr>\n",
       "    <tr>\n",
       "      <th>2</th>\n",
       "      <td>Arizona</td>\n",
       "      <td>4351446</td>\n",
       "      <td>7303398</td>\n",
       "      <td>0.5958</td>\n",
       "      <td>2022-01-01</td>\n",
       "    </tr>\n",
       "    <tr>\n",
       "      <th>3</th>\n",
       "      <td>Arkansas</td>\n",
       "      <td>1774596</td>\n",
       "      <td>3030646</td>\n",
       "      <td>0.5856</td>\n",
       "      <td>2021-06-02</td>\n",
       "    </tr>\n",
       "    <tr>\n",
       "      <th>4</th>\n",
       "      <td>California</td>\n",
       "      <td>22005243</td>\n",
       "      <td>39995077</td>\n",
       "      <td>0.5502</td>\n",
       "      <td>2022-01-04</td>\n",
       "    </tr>\n",
       "  </tbody>\n",
       "</table>\n",
       "</div>"
      ],
      "text/plain": [
       "        State  totalRegistered       Pop  registeredPerc        asOf\n",
       "0     Alabama          3628165   5073187          0.7152  2022-03-26\n",
       "1      Alaska           594733    738023          0.8058  2022-02-01\n",
       "2     Arizona          4351446   7303398          0.5958  2022-01-01\n",
       "3    Arkansas          1774596   3030646          0.5856  2021-06-02\n",
       "4  California         22005243  39995077          0.5502  2022-01-04"
      ]
     },
     "execution_count": 2,
     "metadata": {},
     "output_type": "execute_result"
    }
   ],
   "source": [
    "platform = 'https://raw.githubusercontent.com/'\n",
    "path = 'CodeTruthOhana/elections/main/data/'\n",
    "file = 'number_of_registered_voters_by_state_2022.csv'\n",
    "\n",
    "df_voters = pd.read_csv(platform + path + file)\n",
    "\n",
    "df_voters.head()"
   ]
  },
  {
   "cell_type": "code",
   "execution_count": null,
   "id": "e88d1286",
   "metadata": {},
   "outputs": [],
   "source": []
  },
  {
   "cell_type": "code",
   "execution_count": null,
   "id": "6af56392",
   "metadata": {},
   "outputs": [],
   "source": []
  },
  {
   "cell_type": "markdown",
   "id": "ed3b9224",
   "metadata": {},
   "source": [
    "<hr>"
   ]
  },
  {
   "cell_type": "markdown",
   "id": "7f370310",
   "metadata": {},
   "source": [
    "### US States Ranked by Population 2022"
   ]
  },
  {
   "cell_type": "code",
   "execution_count": 3,
   "id": "ddf4f7af",
   "metadata": {},
   "outputs": [
    {
     "data": {
      "text/html": [
       "<div>\n",
       "<style scoped>\n",
       "    .dataframe tbody tr th:only-of-type {\n",
       "        vertical-align: middle;\n",
       "    }\n",
       "\n",
       "    .dataframe tbody tr th {\n",
       "        vertical-align: top;\n",
       "    }\n",
       "\n",
       "    .dataframe thead th {\n",
       "        text-align: right;\n",
       "    }\n",
       "</style>\n",
       "<table border=\"1\" class=\"dataframe\">\n",
       "  <thead>\n",
       "    <tr style=\"text-align: right;\">\n",
       "      <th></th>\n",
       "      <th>rank</th>\n",
       "      <th>State</th>\n",
       "      <th>Pop</th>\n",
       "      <th>Growth</th>\n",
       "      <th>Pop2021</th>\n",
       "      <th>Pop2010</th>\n",
       "      <th>growthSince2010</th>\n",
       "      <th>Percent</th>\n",
       "      <th>density</th>\n",
       "    </tr>\n",
       "  </thead>\n",
       "  <tbody>\n",
       "    <tr>\n",
       "      <th>0</th>\n",
       "      <td>1</td>\n",
       "      <td>California</td>\n",
       "      <td>39995077</td>\n",
       "      <td>0.0057</td>\n",
       "      <td>39766650</td>\n",
       "      <td>37253956</td>\n",
       "      <td>0.0736</td>\n",
       "      <td>0.1193</td>\n",
       "      <td>256.7424</td>\n",
       "    </tr>\n",
       "    <tr>\n",
       "      <th>1</th>\n",
       "      <td>2</td>\n",
       "      <td>Texas</td>\n",
       "      <td>29945493</td>\n",
       "      <td>0.0135</td>\n",
       "      <td>29545499</td>\n",
       "      <td>25145561</td>\n",
       "      <td>0.1909</td>\n",
       "      <td>0.0893</td>\n",
       "      <td>114.6318</td>\n",
       "    </tr>\n",
       "    <tr>\n",
       "      <th>2</th>\n",
       "      <td>3</td>\n",
       "      <td>Florida</td>\n",
       "      <td>22085563</td>\n",
       "      <td>0.0125</td>\n",
       "      <td>21811875</td>\n",
       "      <td>18801310</td>\n",
       "      <td>0.1747</td>\n",
       "      <td>0.0659</td>\n",
       "      <td>411.8520</td>\n",
       "    </tr>\n",
       "    <tr>\n",
       "      <th>3</th>\n",
       "      <td>4</td>\n",
       "      <td>New York</td>\n",
       "      <td>20365879</td>\n",
       "      <td>0.0041</td>\n",
       "      <td>20283564</td>\n",
       "      <td>19378102</td>\n",
       "      <td>0.0510</td>\n",
       "      <td>0.0607</td>\n",
       "      <td>432.1580</td>\n",
       "    </tr>\n",
       "    <tr>\n",
       "      <th>4</th>\n",
       "      <td>5</td>\n",
       "      <td>Pennsylvania</td>\n",
       "      <td>13062764</td>\n",
       "      <td>0.0023</td>\n",
       "      <td>13032732</td>\n",
       "      <td>12702379</td>\n",
       "      <td>0.0284</td>\n",
       "      <td>0.0390</td>\n",
       "      <td>291.9510</td>\n",
       "    </tr>\n",
       "  </tbody>\n",
       "</table>\n",
       "</div>"
      ],
      "text/plain": [
       "   rank         State       Pop  Growth   Pop2021   Pop2010  growthSince2010  \\\n",
       "0     1    California  39995077  0.0057  39766650  37253956           0.0736   \n",
       "1     2         Texas  29945493  0.0135  29545499  25145561           0.1909   \n",
       "2     3       Florida  22085563  0.0125  21811875  18801310           0.1747   \n",
       "3     4      New York  20365879  0.0041  20283564  19378102           0.0510   \n",
       "4     5  Pennsylvania  13062764  0.0023  13032732  12702379           0.0284   \n",
       "\n",
       "   Percent   density  \n",
       "0   0.1193  256.7424  \n",
       "1   0.0893  114.6318  \n",
       "2   0.0659  411.8520  \n",
       "3   0.0607  432.1580  \n",
       "4   0.0390  291.9510  "
      ]
     },
     "execution_count": 3,
     "metadata": {},
     "output_type": "execute_result"
    }
   ],
   "source": [
    "platform = 'https://raw.githubusercontent.com/'\n",
    "path = 'CodeTruthOhana/elections/main/data/'\n",
    "file = 'us_states_ranked_by_population_2022.csv'\n",
    "\n",
    "df_ranked = pd.read_csv(platform + path + file)\n",
    "\n",
    "df_ranked.head()"
   ]
  },
  {
   "cell_type": "code",
   "execution_count": null,
   "id": "65defcf4",
   "metadata": {},
   "outputs": [],
   "source": []
  },
  {
   "cell_type": "code",
   "execution_count": null,
   "id": "b6675e44",
   "metadata": {},
   "outputs": [],
   "source": []
  },
  {
   "cell_type": "markdown",
   "id": "d6249d05",
   "metadata": {},
   "source": [
    "<hr>"
   ]
  },
  {
   "cell_type": "markdown",
   "id": "7f924414",
   "metadata": {},
   "source": [
    "### Counties in the United States by Population 2022"
   ]
  },
  {
   "cell_type": "code",
   "execution_count": 4,
   "id": "3064e44e",
   "metadata": {},
   "outputs": [
    {
     "data": {
      "text/html": [
       "<div>\n",
       "<style scoped>\n",
       "    .dataframe tbody tr th:only-of-type {\n",
       "        vertical-align: middle;\n",
       "    }\n",
       "\n",
       "    .dataframe tbody tr th {\n",
       "        vertical-align: top;\n",
       "    }\n",
       "\n",
       "    .dataframe thead th {\n",
       "        text-align: right;\n",
       "    }\n",
       "</style>\n",
       "<table border=\"1\" class=\"dataframe\">\n",
       "  <thead>\n",
       "    <tr style=\"text-align: right;\">\n",
       "      <th></th>\n",
       "      <th>State</th>\n",
       "      <th>pop2022</th>\n",
       "      <th>pop2010</th>\n",
       "      <th>GrowthRate</th>\n",
       "    </tr>\n",
       "  </thead>\n",
       "  <tbody>\n",
       "    <tr>\n",
       "      <th>0</th>\n",
       "      <td>California</td>\n",
       "      <td>10053089</td>\n",
       "      <td>9818605</td>\n",
       "      <td>0.0239</td>\n",
       "    </tr>\n",
       "    <tr>\n",
       "      <th>1</th>\n",
       "      <td>Illinois</td>\n",
       "      <td>5291715</td>\n",
       "      <td>5194675</td>\n",
       "      <td>0.0187</td>\n",
       "    </tr>\n",
       "    <tr>\n",
       "      <th>2</th>\n",
       "      <td>Texas</td>\n",
       "      <td>4858883</td>\n",
       "      <td>4092459</td>\n",
       "      <td>0.1873</td>\n",
       "    </tr>\n",
       "    <tr>\n",
       "      <th>3</th>\n",
       "      <td>Arizona</td>\n",
       "      <td>4541258</td>\n",
       "      <td>3817117</td>\n",
       "      <td>0.1897</td>\n",
       "    </tr>\n",
       "    <tr>\n",
       "      <th>4</th>\n",
       "      <td>California</td>\n",
       "      <td>3339298</td>\n",
       "      <td>3095313</td>\n",
       "      <td>0.0788</td>\n",
       "    </tr>\n",
       "  </tbody>\n",
       "</table>\n",
       "</div>"
      ],
      "text/plain": [
       "        State   pop2022  pop2010  GrowthRate\n",
       "0  California  10053089  9818605      0.0239\n",
       "1    Illinois   5291715  5194675      0.0187\n",
       "2       Texas   4858883  4092459      0.1873\n",
       "3     Arizona   4541258  3817117      0.1897\n",
       "4  California   3339298  3095313      0.0788"
      ]
     },
     "execution_count": 4,
     "metadata": {},
     "output_type": "execute_result"
    }
   ],
   "source": [
    "platform = 'https://raw.githubusercontent.com/'\n",
    "path = 'CodeTruthOhana/elections/main/data/'\n",
    "file = 'counties_in_the_united_states_by_population_2022.csv'\n",
    "\n",
    "df_counties = pd.read_csv(platform + path + file)\n",
    "\n",
    "df_counties.head()"
   ]
  },
  {
   "cell_type": "code",
   "execution_count": null,
   "id": "60a6d7c8",
   "metadata": {},
   "outputs": [],
   "source": []
  },
  {
   "cell_type": "code",
   "execution_count": null,
   "id": "1d57e2a3",
   "metadata": {},
   "outputs": [],
   "source": []
  },
  {
   "cell_type": "markdown",
   "id": "39fd09c0",
   "metadata": {},
   "source": [
    "<hr>"
   ]
  },
  {
   "cell_type": "markdown",
   "id": "50b7c2f8",
   "metadata": {},
   "source": [
    "### 500 Most Populated Zip Codes"
   ]
  },
  {
   "cell_type": "code",
   "execution_count": 5,
   "id": "1c8f86e7",
   "metadata": {},
   "outputs": [
    {
     "data": {
      "text/html": [
       "<div>\n",
       "<style scoped>\n",
       "    .dataframe tbody tr th:only-of-type {\n",
       "        vertical-align: middle;\n",
       "    }\n",
       "\n",
       "    .dataframe tbody tr th {\n",
       "        vertical-align: top;\n",
       "    }\n",
       "\n",
       "    .dataframe thead th {\n",
       "        text-align: right;\n",
       "    }\n",
       "</style>\n",
       "<table border=\"1\" class=\"dataframe\">\n",
       "  <thead>\n",
       "    <tr style=\"text-align: right;\">\n",
       "      <th></th>\n",
       "      <th>zip</th>\n",
       "      <th>city</th>\n",
       "      <th>county</th>\n",
       "      <th>pop</th>\n",
       "    </tr>\n",
       "  </thead>\n",
       "  <tbody>\n",
       "    <tr>\n",
       "      <th>0</th>\n",
       "      <td>77494</td>\n",
       "      <td>Katy</td>\n",
       "      <td>Fort Bend</td>\n",
       "      <td>126310</td>\n",
       "    </tr>\n",
       "    <tr>\n",
       "      <th>1</th>\n",
       "      <td>77449</td>\n",
       "      <td>Katy</td>\n",
       "      <td>Harris</td>\n",
       "      <td>123157</td>\n",
       "    </tr>\n",
       "    <tr>\n",
       "      <th>2</th>\n",
       "      <td>75034</td>\n",
       "      <td>Frisco</td>\n",
       "      <td>Collin</td>\n",
       "      <td>116155</td>\n",
       "    </tr>\n",
       "    <tr>\n",
       "      <th>3</th>\n",
       "      <td>90011</td>\n",
       "      <td>Los Angeles</td>\n",
       "      <td>Los Angeles</td>\n",
       "      <td>110750</td>\n",
       "    </tr>\n",
       "    <tr>\n",
       "      <th>4</th>\n",
       "      <td>75070</td>\n",
       "      <td>McKinney</td>\n",
       "      <td>Collin</td>\n",
       "      <td>109085</td>\n",
       "    </tr>\n",
       "  </tbody>\n",
       "</table>\n",
       "</div>"
      ],
      "text/plain": [
       "     zip         city       county     pop\n",
       "0  77494         Katy    Fort Bend  126310\n",
       "1  77449         Katy       Harris  123157\n",
       "2  75034       Frisco       Collin  116155\n",
       "3  90011  Los Angeles  Los Angeles  110750\n",
       "4  75070     McKinney       Collin  109085"
      ]
     },
     "execution_count": 5,
     "metadata": {},
     "output_type": "execute_result"
    }
   ],
   "source": [
    "platform = 'https://raw.githubusercontent.com/'\n",
    "path = 'CodeTruthOhana/elections/main/data/'\n",
    "file = '500_most_populated_zip_codes.csv'\n",
    "\n",
    "df_zips = pd.read_csv(platform + path + file)\n",
    "\n",
    "df_zips.head()"
   ]
  },
  {
   "cell_type": "code",
   "execution_count": null,
   "id": "79ac8188",
   "metadata": {},
   "outputs": [],
   "source": []
  },
  {
   "cell_type": "code",
   "execution_count": null,
   "id": "75210938",
   "metadata": {},
   "outputs": [],
   "source": []
  }
 ],
 "metadata": {
  "kernelspec": {
   "display_name": "Python 3 (ipykernel)",
   "language": "python",
   "name": "python3"
  },
  "language_info": {
   "codemirror_mode": {
    "name": "ipython",
    "version": 3
   },
   "file_extension": ".py",
   "mimetype": "text/x-python",
   "name": "python",
   "nbconvert_exporter": "python",
   "pygments_lexer": "ipython3",
   "version": "3.9.12"
  }
 },
 "nbformat": 4,
 "nbformat_minor": 5
}
